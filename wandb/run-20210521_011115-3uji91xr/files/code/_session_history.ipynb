{
 "cells": [
  {
   "cell_type": "code",
   "execution_count": 1,
   "metadata": {},
   "outputs": [],
   "source": [
    "import os\n",
    "import cv2\n",
    "import torch\n",
    "import numpy as np"
   ]
  },
  {
   "cell_type": "code",
   "execution_count": 2,
   "metadata": {},
   "outputs": [],
   "source": [
    "BATCH_SIZE = 32"
   ]
  },
  {
   "cell_type": "code",
   "execution_count": 3,
   "metadata": {},
   "outputs": [],
   "source": [
    "from tqdm import tqdm"
   ]
  },
  {
   "cell_type": "code",
   "execution_count": 4,
   "metadata": {},
   "outputs": [],
   "source": [
    "def load_data(img_size=112):\n",
    "    data = []\n",
    "    index = -1\n",
    "    labels = {}\n",
    "    for directory in os.listdir('./data/')[:37]:\n",
    "        index += 1\n",
    "        labels[f'./data/{directory}/'] = [index,-1]\n",
    "    for label in tqdm(labels):\n",
    "        for file in os.listdir(label):\n",
    "            filepath = label + file\n",
    "            img = cv2.imread(filepath)\n",
    "            img = cv2.resize(img,(img_size,img_size))\n",
    "#             img = img / 255.0\n",
    "            data.append([\n",
    "                np.array(img),\n",
    "                labels[label][0]\n",
    "            ])\n",
    "            labels[label][1] += 1\n",
    "    for _ in range(12):\n",
    "        np.random.shuffle(data)\n",
    "    print(len(data))\n",
    "#     np.save('./data.npy',data)\n",
    "    return data"
   ]
  },
  {
   "cell_type": "code",
   "execution_count": 5,
   "metadata": {},
   "outputs": [],
   "source": [
    "import torch"
   ]
  },
  {
   "cell_type": "code",
   "execution_count": 6,
   "metadata": {},
   "outputs": [],
   "source": [
    "def other_loading_data_proccess(data):\n",
    "    print(len(data))\n",
    "    X = []\n",
    "    y = []\n",
    "    print('going through the data..')\n",
    "    for d in data:\n",
    "        X.append(d[0])\n",
    "        y.append(d[1])\n",
    "    print('splitting the data')\n",
    "    VAL_SPLIT = 0.25\n",
    "    VAL_SPLIT = len(X)*VAL_SPLIT\n",
    "    VAL_SPLIT = int(VAL_SPLIT)\n",
    "    X_train = X[:-VAL_SPLIT]\n",
    "    y_train = y[:-VAL_SPLIT]\n",
    "    X_test = X[-VAL_SPLIT:]\n",
    "    y_test = y[-VAL_SPLIT:]\n",
    "    print('turning data to tensors')\n",
    "    X_train = torch.from_numpy(np.array(X_train))\n",
    "    print(len(X_train))\n",
    "    y_train = torch.from_numpy(np.array(y_train))\n",
    "    print(len(y_train))\n",
    "    X_test = torch.from_numpy(np.array(X_test))\n",
    "    print(len(X_test))\n",
    "    y_test = torch.from_numpy(np.array(y_test))\n",
    "    print(len(y_test))\n",
    "    return [X_train,X_test,y_train,y_test]"
   ]
  },
  {
   "cell_type": "code",
   "execution_count": 7,
   "metadata": {},
   "outputs": [],
   "source": [
    "REBUILD_DATA = True\n",
    "if REBUILD_DATA:\n",
    "    data = load_data()\n",
    "    np.random.shuffle(data)\n",
    "    X_train,X_test,y_train,y_test = other_loading_data_proccess(data)"
   ]
  },
  {
   "cell_type": "code",
   "execution_count": 8,
   "metadata": {},
   "outputs": [],
   "source": [
    "import torch\n",
    "import torch.nn as nn\n",
    "from torchvision import transforms"
   ]
  },
  {
   "cell_type": "code",
   "execution_count": 9,
   "metadata": {},
   "outputs": [],
   "source": [
    "import matplotlib.pyplot as plt"
   ]
  },
  {
   "cell_type": "code",
   "execution_count": 10,
   "metadata": {},
   "outputs": [],
   "source": [
    "transform_train = transforms.Compose([\n",
    "    transforms.RandomCrop(112, padding=2),\n",
    "    transforms.RandomHorizontalFlip(),\n",
    "    transforms.CenterCrop(112),\n",
    "    transforms.RandomHorizontalFlip(),\n",
    "    transforms.ColorJitter(0.25,0.25),\n",
    "    transforms.ToTensor(),\n",
    "    transforms.Normalize((0.4914, 0.4822, 0.4465), (0.2023, 0.1994, 0.2010)),\n",
    "])"
   ]
  },
  {
   "cell_type": "code",
   "execution_count": 11,
   "metadata": {},
   "outputs": [],
   "source": [
    "from PIL import Image"
   ]
  },
  {
   "cell_type": "code",
   "execution_count": 12,
   "metadata": {},
   "outputs": [],
   "source": [
    "X_train_new = []"
   ]
  },
  {
   "cell_type": "code",
   "execution_count": 13,
   "metadata": {},
   "outputs": [],
   "source": [
    "import random"
   ]
  },
  {
   "cell_type": "code",
   "execution_count": 14,
   "metadata": {},
   "outputs": [],
   "source": [
    "for index in range(len(X_train)):\n",
    "    testing = X_train[index]\n",
    "    testing = np.array(testing)\n",
    "    testing = Image.fromarray(testing)\n",
    "    X_train_new.append(np.array(transform_train(testing)))"
   ]
  },
  {
   "cell_type": "code",
   "execution_count": 15,
   "metadata": {},
   "outputs": [],
   "source": [
    "X_train_new = np.array(X_train_new)"
   ]
  },
  {
   "cell_type": "code",
   "execution_count": 16,
   "metadata": {},
   "outputs": [],
   "source": [
    "X_train_new = X_train_new.astype(int)"
   ]
  },
  {
   "cell_type": "code",
   "execution_count": 17,
   "metadata": {},
   "outputs": [],
   "source": [
    "X_train = torch.from_numpy(X_train_new)"
   ]
  },
  {
   "cell_type": "code",
   "execution_count": 18,
   "metadata": {},
   "outputs": [
    {
     "name": "stdout",
     "output_type": "stream",
     "text": [
      "torch.Size([14172, 3, 112, 112])"
     ]
    }
   ],
   "source": [
    "X_train.shape"
   ]
  },
  {
   "cell_type": "code",
   "execution_count": 19,
   "metadata": {},
   "outputs": [],
   "source": [
    "import torch\n",
    "import torch.nn as nn"
   ]
  },
  {
   "cell_type": "code",
   "execution_count": 20,
   "metadata": {},
   "outputs": [],
   "source": [
    "from torchvision import models"
   ]
  },
  {
   "cell_type": "code",
   "execution_count": 21,
   "metadata": {},
   "outputs": [],
   "source": [
    "device = torch.device('cuda')"
   ]
  },
  {
   "cell_type": "code",
   "execution_count": 22,
   "metadata": {},
   "outputs": [],
   "source": [
    "model = models.resnet18(pretrained=True).to(device)\n",
    "model = model.to(device)\n",
    "num_ftrs = model.fc.in_features\n",
    "model.fc = nn.Linear(num_ftrs, 37)"
   ]
  },
  {
   "cell_type": "code",
   "execution_count": 23,
   "metadata": {},
   "outputs": [],
   "source": [
    "optimizer = torch.optim.SGD(model.parameters(),lr=0.1)"
   ]
  },
  {
   "cell_type": "code",
   "execution_count": 24,
   "metadata": {},
   "outputs": [],
   "source": [
    "criterion = nn.CrossEntropyLoss()"
   ]
  },
  {
   "cell_type": "code",
   "execution_count": 25,
   "metadata": {},
   "outputs": [],
   "source": [
    "EPOCHS = 12"
   ]
  },
  {
   "cell_type": "code",
   "execution_count": 26,
   "metadata": {},
   "outputs": [],
   "source": [
    "BATCH_SIZE = 32"
   ]
  },
  {
   "cell_type": "code",
   "execution_count": 27,
   "metadata": {},
   "outputs": [],
   "source": [
    "from tqdm import tqdm"
   ]
  },
  {
   "cell_type": "code",
   "execution_count": 28,
   "metadata": {},
   "outputs": [],
   "source": [
    "loss_logs = []"
   ]
  },
  {
   "cell_type": "code",
   "execution_count": 29,
   "metadata": {},
   "outputs": [],
   "source": [
    "for _ in tqdm(range(EPOCHS)):\n",
    "    for i in range(0,len(X_train),BATCH_SIZE):\n",
    "        X_batch = X_train[i:i+BATCH_SIZE].view(-1,3,112,112).to(device)\n",
    "        y_batch = y_train[i:i+BATCH_SIZE].to(device)\n",
    "        model = model.to(device)\n",
    "        preds = model(X_batch.float().to(device))\n",
    "        preds = preds.to(device)\n",
    "        loss = criterion(preds,y_batch)\n",
    "        optimizer.zero_grad()\n",
    "        loss.backward()\n",
    "        optimizer.step()\n",
    "        loss_logs.append(loss.item())"
   ]
  },
  {
   "cell_type": "code",
   "execution_count": 30,
   "metadata": {},
   "outputs": [
    {
     "name": "stdout",
     "output_type": "stream",
     "text": [
      "[<matplotlib.lines.Line2D at 0x7f9d0407a908>]"
     ]
    }
   ],
   "source": [
    "plt.plot(loss_logs)"
   ]
  },
  {
   "cell_type": "code",
   "execution_count": 31,
   "metadata": {},
   "outputs": [
    {
     "name": "stdout",
     "output_type": "stream",
     "text": [
      "torch.Size([28])"
     ]
    }
   ],
   "source": [
    "y_batch.shape"
   ]
  },
  {
   "cell_type": "code",
   "execution_count": 32,
   "metadata": {},
   "outputs": [
    {
     "name": "stdout",
     "output_type": "stream",
     "text": [
      "torch.Size([28, 37])"
     ]
    }
   ],
   "source": [
    "preds.shape"
   ]
  },
  {
   "cell_type": "code",
   "execution_count": 33,
   "metadata": {},
   "outputs": [
    {
     "name": "stdout",
     "output_type": "stream",
     "text": [
      "tensor([[ 1., 18., -2.,  ...,  1., -7., -0.],\n",
      "        [-2.,  2., -2.,  ...,  1., -4., -4.],\n",
      "        [-5.,  5., -3.,  ...,  1., -4., -4.],\n",
      "        ...,\n",
      "        [ 2., -4., -3.,  ...,  5.,  1.,  2.],\n",
      "        [-3., -6.,  5.,  ...,  4., -1., -3.],\n",
      "        [-2., -5.,  1.,  ..., -2.,  8., -0.]], device='cuda:0',\n",
      "       grad_fn=<RoundBackward>)"
     ]
    }
   ],
   "source": [
    "torch.round(preds)"
   ]
  },
  {
   "cell_type": "code",
   "execution_count": 34,
   "metadata": {},
   "outputs": [
    {
     "name": "stdout",
     "output_type": "stream",
     "text": [
      "tensor(218, device='cuda:0')"
     ]
    }
   ],
   "source": [
    "torch.argmax(torch.round(preds))"
   ]
  },
  {
   "cell_type": "code",
   "execution_count": 35,
   "metadata": {},
   "outputs": [
    {
     "name": "stdout",
     "output_type": "stream",
     "text": [
      "tensor(1, device='cuda:0')"
     ]
    }
   ],
   "source": [
    "torch.argmax(torch.round(preds)[0])"
   ]
  },
  {
   "cell_type": "code",
   "execution_count": 36,
   "metadata": {},
   "outputs": [
    {
     "name": "stdout",
     "output_type": "stream",
     "text": [
      "tensor([ 1,  8, 24, 27,  7, 33, 16, 23, 23,  9,  4, 24, 21,  8, 28,  8, 10, 13,\n",
      "        15, 12, 27, 13,  0, 22,  3, 14, 22, 31], device='cuda:0')"
     ]
    }
   ],
   "source": [
    "y_batch"
   ]
  },
  {
   "cell_type": "code",
   "execution_count": 37,
   "metadata": {},
   "outputs": [
    {
     "name": "stdout",
     "output_type": "stream",
     "text": [
      "tensor(8, device='cuda:0')"
     ]
    }
   ],
   "source": [
    "torch.argmax(torch.round(preds)[1])"
   ]
  },
  {
   "cell_type": "code",
   "execution_count": 38,
   "metadata": {},
   "outputs": [
    {
     "name": "stdout",
     "output_type": "stream",
     "text": [
      "tensor([ 1,  8, 24, 27,  7, 33, 16, 23, 23,  9,  4, 24, 21,  8, 28,  8, 10, 13,\n",
      "        15, 12, 27, 13,  0, 22,  3, 14, 22, 31], device='cuda:0')"
     ]
    }
   ],
   "source": [
    "y_batch"
   ]
  },
  {
   "cell_type": "code",
   "execution_count": 39,
   "metadata": {},
   "outputs": [
    {
     "name": "stdout",
     "output_type": "stream",
     "text": [
      "tensor(24, device='cuda:0')"
     ]
    }
   ],
   "source": [
    "torch.argmax(torch.round(preds)[2])"
   ]
  },
  {
   "cell_type": "code",
   "execution_count": 40,
   "metadata": {},
   "outputs": [
    {
     "name": "stdout",
     "output_type": "stream",
     "text": [
      "tensor([ 1,  8, 24, 27,  7, 33, 16, 23, 23,  9,  4, 24, 21,  8, 28,  8, 10, 13,\n",
      "        15, 12, 27, 13,  0, 22,  3, 14, 22, 31], device='cuda:0')"
     ]
    }
   ],
   "source": [
    "y_batch"
   ]
  },
  {
   "cell_type": "code",
   "execution_count": 41,
   "metadata": {},
   "outputs": [
    {
     "name": "stdout",
     "output_type": "stream",
     "text": [
      "tensor(27, device='cuda:0')"
     ]
    }
   ],
   "source": [
    "torch.argmax(torch.round(preds)[3])"
   ]
  },
  {
   "cell_type": "code",
   "execution_count": 42,
   "metadata": {},
   "outputs": [
    {
     "name": "stdout",
     "output_type": "stream",
     "text": [
      "tensor([ 1,  8, 24, 27,  7, 33, 16, 23, 23,  9,  4, 24, 21,  8, 28,  8, 10, 13,\n",
      "        15, 12, 27, 13,  0, 22,  3, 14, 22, 31], device='cuda:0')"
     ]
    }
   ],
   "source": [
    "y_batch"
   ]
  },
  {
   "cell_type": "code",
   "execution_count": 43,
   "metadata": {},
   "outputs": [
    {
     "name": "stdout",
     "output_type": "stream",
     "text": [
      "tensor(218, device='cuda:0')"
     ]
    }
   ],
   "source": [
    "torch.argmax(torch.round(preds))"
   ]
  },
  {
   "cell_type": "code",
   "execution_count": 44,
   "metadata": {},
   "outputs": [
    {
     "name": "stdout",
     "output_type": "stream",
     "text": [
      "tensor([[ 1., 18., -2.,  ...,  1., -7., -0.],\n",
      "        [-2.,  2., -2.,  ...,  1., -4., -4.],\n",
      "        [-5.,  5., -3.,  ...,  1., -4., -4.],\n",
      "        ...,\n",
      "        [ 2., -4., -3.,  ...,  5.,  1.,  2.],\n",
      "        [-3., -6.,  5.,  ...,  4., -1., -3.],\n",
      "        [-2., -5.,  1.,  ..., -2.,  8., -0.]], device='cuda:0',\n",
      "       grad_fn=<RoundBackward>)"
     ]
    }
   ],
   "source": [
    "torch.round(preds)"
   ]
  },
  {
   "cell_type": "code",
   "execution_count": 45,
   "metadata": {},
   "outputs": [],
   "source": [
    "preds_new = []"
   ]
  },
  {
   "cell_type": "code",
   "execution_count": 46,
   "metadata": {},
   "outputs": [],
   "source": [
    "for pred in preds:\n",
    "    preds_new.append(torch.argmax(torch.round(pred)))"
   ]
  },
  {
   "cell_type": "code",
   "execution_count": 47,
   "metadata": {},
   "outputs": [
    {
     "name": "stdout",
     "output_type": "stream",
     "text": [
      "[tensor(1, device='cuda:0'),\n",
      " tensor(8, device='cuda:0'),\n",
      " tensor(24, device='cuda:0'),\n",
      " tensor(27, device='cuda:0'),\n",
      " tensor(7, device='cuda:0'),\n",
      " tensor(33, device='cuda:0'),\n",
      " tensor(16, device='cuda:0'),\n",
      " tensor(23, device='cuda:0'),\n",
      " tensor(23, device='cuda:0'),\n",
      " tensor(9, device='cuda:0'),\n",
      " tensor(4, device='cuda:0'),\n",
      " tensor(24, device='cuda:0'),\n",
      " tensor(21, device='cuda:0'),\n",
      " tensor(8, device='cuda:0'),\n",
      " tensor(28, device='cuda:0'),\n",
      " tensor(8, device='cuda:0'),\n",
      " tensor(10, device='cuda:0'),\n",
      " tensor(13, device='cuda:0'),\n",
      " tensor(15, device='cuda:0'),\n",
      " tensor(12, device='cuda:0'),\n",
      " tensor(27, device='cuda:0'),\n",
      " tensor(13, device='cuda:0'),\n",
      " tensor(0, device='cuda:0'),\n",
      " tensor(22, device='cuda:0'),\n",
      " tensor(3, device='cuda:0'),\n",
      " tensor(14, device='cuda:0'),\n",
      " tensor(22, device='cuda:0'),\n",
      " tensor(31, device='cuda:0')]"
     ]
    }
   ],
   "source": [
    "preds_new"
   ]
  },
  {
   "cell_type": "code",
   "execution_count": 48,
   "metadata": {},
   "outputs": [],
   "source": [
    "for pred in preds:\n",
    "    preds_new.append(int(torch.argmax(torch.round(pred))))"
   ]
  },
  {
   "cell_type": "code",
   "execution_count": 49,
   "metadata": {},
   "outputs": [
    {
     "name": "stdout",
     "output_type": "stream",
     "text": [
      "[tensor(1, device='cuda:0'),\n",
      " tensor(8, device='cuda:0'),\n",
      " tensor(24, device='cuda:0'),\n",
      " tensor(27, device='cuda:0'),\n",
      " tensor(7, device='cuda:0'),\n",
      " tensor(33, device='cuda:0'),\n",
      " tensor(16, device='cuda:0'),\n",
      " tensor(23, device='cuda:0'),\n",
      " tensor(23, device='cuda:0'),\n",
      " tensor(9, device='cuda:0'),\n",
      " tensor(4, device='cuda:0'),\n",
      " tensor(24, device='cuda:0'),\n",
      " tensor(21, device='cuda:0'),\n",
      " tensor(8, device='cuda:0'),\n",
      " tensor(28, device='cuda:0'),\n",
      " tensor(8, device='cuda:0'),\n",
      " tensor(10, device='cuda:0'),\n",
      " tensor(13, device='cuda:0'),\n",
      " tensor(15, device='cuda:0'),\n",
      " tensor(12, device='cuda:0'),\n",
      " tensor(27, device='cuda:0'),\n",
      " tensor(13, device='cuda:0'),\n",
      " tensor(0, device='cuda:0'),\n",
      " tensor(22, device='cuda:0'),\n",
      " tensor(3, device='cuda:0'),\n",
      " tensor(14, device='cuda:0'),\n",
      " tensor(22, device='cuda:0'),\n",
      " tensor(31, device='cuda:0'),\n",
      " 1,\n",
      " 8,\n",
      " 24,\n",
      " 27,\n",
      " 7,\n",
      " 33,\n",
      " 16,\n",
      " 23,\n",
      " 23,\n",
      " 9,\n",
      " 4,\n",
      " 24,\n",
      " 21,\n",
      " 8,\n",
      " 28,\n",
      " 8,\n",
      " 10,\n",
      " 13,\n",
      " 15,\n",
      " 12,\n",
      " 27,\n",
      " 13,\n",
      " 0,\n",
      " 22,\n",
      " 3,\n",
      " 14,\n",
      " 22,\n",
      " 31]"
     ]
    }
   ],
   "source": [
    "preds_new"
   ]
  },
  {
   "cell_type": "code",
   "execution_count": 50,
   "metadata": {},
   "outputs": [],
   "source": [
    "preds_new = []"
   ]
  },
  {
   "cell_type": "code",
   "execution_count": 51,
   "metadata": {},
   "outputs": [],
   "source": [
    "for pred in preds:\n",
    "    preds_new.append(int(torch.argmax(torch.round(pred))))"
   ]
  },
  {
   "cell_type": "code",
   "execution_count": 52,
   "metadata": {},
   "outputs": [
    {
     "name": "stdout",
     "output_type": "stream",
     "text": [
      "[1,\n",
      " 8,\n",
      " 24,\n",
      " 27,\n",
      " 7,\n",
      " 33,\n",
      " 16,\n",
      " 23,\n",
      " 23,\n",
      " 9,\n",
      " 4,\n",
      " 24,\n",
      " 21,\n",
      " 8,\n",
      " 28,\n",
      " 8,\n",
      " 10,\n",
      " 13,\n",
      " 15,\n",
      " 12,\n",
      " 27,\n",
      " 13,\n",
      " 0,\n",
      " 22,\n",
      " 3,\n",
      " 14,\n",
      " 22,\n",
      " 31]"
     ]
    }
   ],
   "source": [
    "preds_new"
   ]
  },
  {
   "cell_type": "code",
   "execution_count": 53,
   "metadata": {},
   "outputs": [
    {
     "name": "stdout",
     "output_type": "stream",
     "text": [
      "[1,\n",
      " 8,\n",
      " 24,\n",
      " 27,\n",
      " 7,\n",
      " 33,\n",
      " 16,\n",
      " 23,\n",
      " 23,\n",
      " 9,\n",
      " 4,\n",
      " 24,\n",
      " 21,\n",
      " 8,\n",
      " 28,\n",
      " 8,\n",
      " 10,\n",
      " 13,\n",
      " 15,\n",
      " 12,\n",
      " 27,\n",
      " 13,\n",
      " 0,\n",
      " 22,\n",
      " 3,\n",
      " 14,\n",
      " 22,\n",
      " 31]"
     ]
    }
   ],
   "source": [
    "preds_new"
   ]
  },
  {
   "cell_type": "code",
   "execution_count": 54,
   "metadata": {},
   "outputs": [
    {
     "name": "stdout",
     "output_type": "stream",
     "text": [
      "torch.Size([28, 37])"
     ]
    }
   ],
   "source": [
    "preds.shape"
   ]
  },
  {
   "cell_type": "code",
   "execution_count": 55,
   "metadata": {},
   "outputs": [],
   "source": [
    "preds_new = []"
   ]
  },
  {
   "cell_type": "code",
   "execution_count": 56,
   "metadata": {},
   "outputs": [],
   "source": [
    "for pred in preds:\n",
    "    preds_new.append(int(torch.argmax(torch.round(pred))))"
   ]
  },
  {
   "cell_type": "code",
   "execution_count": 57,
   "metadata": {},
   "outputs": [],
   "source": [
    "def get_loss(criterion,y,model,X):\n",
    "    model.to('cpu')\n",
    "    preds = model(X.view(-1,1,112,112).to('cpu').float())\n",
    "    preds.to('cpu')\n",
    "    loss = criterion(preds,torch.tensor(y,dtype=torch.long).to('cpu'))\n",
    "    loss.backward()\n",
    "    return loss.item()"
   ]
  },
  {
   "cell_type": "code",
   "execution_count": 58,
   "metadata": {},
   "outputs": [],
   "source": [
    "def test(net,X,y):\n",
    "    device = 'cpu'\n",
    "    net.to(device)\n",
    "    correct = 0\n",
    "    total = 0\n",
    "    net.eval()\n",
    "    with torch.no_grad():\n",
    "        for i in range(len(X)):\n",
    "            real_class = torch.argmax(y[i]).to(device)\n",
    "            net_out = net(X[i].view(-1,1,112,112).to(device).float())\n",
    "            net_out = net_out[0]\n",
    "            predictied_class = torch.argmax(net_out)\n",
    "            if predictied_class == real_class:\n",
    "                correct += 1\n",
    "            total += 1\n",
    "    net.train()\n",
    "    net.to('cuda')\n",
    "    return round(correct/total,3)"
   ]
  },
  {
   "cell_type": "code",
   "execution_count": 59,
   "metadata": {},
   "outputs": [],
   "source": [
    "PROJECT_NAME = 'fruits-37'"
   ]
  },
  {
   "cell_type": "code",
   "execution_count": 60,
   "metadata": {},
   "outputs": [],
   "source": [
    "optimizers = [torch.optim.Adam,torch.optim.AdamW,torch.optim.Adamax,torch.optim.SGD]\n",
    "for optimizer in optimizers:\n",
    "    model = models.resnet18(pretrained=True).to(device)\n",
    "    model = model.to(device)\n",
    "    num_ftrs = model.fc.in_features\n",
    "    model.fc = nn.Linear(num_ftrs, 37)\n",
    "    optimizer = optimizer(model.parameters(),lr=0.1)\n",
    "    criterion = nn.CrossEntropyLoss()\n",
    "    wandb.init(project=PROJECT_NAME,name=f'optimizer-{optimizer}')\n",
    "    for _ in tqdm(range(EPOCHS)):\n",
    "        for i in range(0,len(X_train),BATCH_SIZE):\n",
    "            X_batch = X_train[i:i+BATCH_SIZE].view(-1,3,112,112).to(device)\n",
    "            y_batch = y_train[i:i+BATCH_SIZE].to(device)\n",
    "            model = model.to(device)\n",
    "            preds = model(X_batch.float().to(device))\n",
    "            preds = preds.to(device)\n",
    "            loss = criterion(preds,y_batch)\n",
    "            optimizer.zero_grad()\n",
    "            loss.backward()\n",
    "            optimizer.step()\n",
    "        wandb.log({'loss':loss.item(),'accuracy':test(model,X_train,y_train),'val_accuracy':test(model,X_test,y_test),'val_loss':get_loss(criterion,y_test,model,X_test)})"
   ]
  },
  {
   "cell_type": "code",
   "execution_count": 61,
   "metadata": {},
   "outputs": [],
   "source": [
    "import wandb"
   ]
  },
  {
   "cell_type": "code",
   "execution_count": 62,
   "metadata": {},
   "outputs": [],
   "source": [
    "optimizers = [torch.optim.Adam,torch.optim.AdamW,torch.optim.Adamax,torch.optim.SGD]\n",
    "for optimizer in optimizers:\n",
    "    model = models.resnet18(pretrained=True).to(device)\n",
    "    model = model.to(device)\n",
    "    num_ftrs = model.fc.in_features\n",
    "    model.fc = nn.Linear(num_ftrs, 37)\n",
    "    optimizer = optimizer(model.parameters(),lr=0.1)\n",
    "    criterion = nn.CrossEntropyLoss()\n",
    "    wandb.init(project=PROJECT_NAME,name=f'optimizer-{optimizer}')\n",
    "    for _ in tqdm(range(EPOCHS)):\n",
    "        for i in range(0,len(X_train),BATCH_SIZE):\n",
    "            X_batch = X_train[i:i+BATCH_SIZE].view(-1,3,112,112).to(device)\n",
    "            y_batch = y_train[i:i+BATCH_SIZE].to(device)\n",
    "            model = model.to(device)\n",
    "            preds = model(X_batch.float().to(device))\n",
    "            preds = preds.to(device)\n",
    "            loss = criterion(preds,y_batch)\n",
    "            optimizer.zero_grad()\n",
    "            loss.backward()\n",
    "            optimizer.step()\n",
    "        wandb.log({'loss':loss.item(),'accuracy':test(model,X_train,y_train),'val_accuracy':test(model,X_test,y_test),'val_loss':get_loss(criterion,y_test,model,X_test)})"
   ]
  },
  {
   "cell_type": "code",
   "execution_count": 63,
   "metadata": {},
   "outputs": [],
   "source": [
    "optimizers = [torch.optim.Adam,torch.optim.AdamW,torch.optim.Adamax,torch.optim.SGD]\n",
    "for optimizer in optimizers:\n",
    "    model = models.resnet18(pretrained=True).to(device)\n",
    "    model = model.to(device)\n",
    "    num_ftrs = model.fc.in_features\n",
    "    model.fc = nn.Linear(num_ftrs, 37)\n",
    "    optimizer = optimizer(model.parameters(),lr=0.1)\n",
    "    criterion = nn.CrossEntropyLoss()\n",
    "    wandb.init(project=PROJECT_NAME,name=f'optimizer-{optimizer}')\n",
    "    for _ in tqdm(range(EPOCHS)):\n",
    "        for i in range(0,len(X_train),BATCH_SIZE):\n",
    "            X_batch = X_train[i:i+BATCH_SIZE].view(BATCH_SIZE,3,112,112).to(device)\n",
    "            y_batch = y_train[i:i+BATCH_SIZE].to(device)\n",
    "            model = model.to(device)\n",
    "            preds = model(X_batch.float().to(device))\n",
    "            preds = preds.to(device)\n",
    "            loss = criterion(preds,y_batch)\n",
    "            optimizer.zero_grad()\n",
    "            loss.backward()\n",
    "            optimizer.step()\n",
    "        wandb.log({'loss':loss.item(),'accuracy':test(model,X_train,y_train),'val_accuracy':test(model,X_test,y_test),'val_loss':get_loss(criterion,y_test,model,X_test)})"
   ]
  },
  {
   "cell_type": "code",
   "execution_count": 64,
   "metadata": {},
   "outputs": [
    {
     "data": {
      "text/html": [
       "Finishing last run (ID:5lhy5g7b) before initializing another..."
      ],
      "text/plain": [
       "<IPython.core.display.HTML object>"
      ]
     },
     "metadata": {},
     "output_type": "display_data"
    },
    {
     "data": {
      "text/html": [
       "<br/>Waiting for W&B process to finish, PID 258789<br/>Program ended successfully."
      ],
      "text/plain": [
       "<IPython.core.display.HTML object>"
      ]
     },
     "metadata": {},
     "output_type": "display_data"
    },
    {
     "data": {
      "application/vnd.jupyter.widget-view+json": {
       "model_id": "07d8f7af4a0c4cbe9e702cd9f564f0db",
       "version_major": 2,
       "version_minor": 0
      },
      "text/plain": [
       "VBox(children=(Label(value=' 0.00MB of 0.00MB uploaded (0.00MB deduped)\\r'), FloatProgress(value=1.0, max=1.0)…"
      ]
     },
     "metadata": {},
     "output_type": "display_data"
    },
    {
     "data": {
      "text/html": [
       "Find user logs for this run at: <code>/home/indika/Programming/Projects/Python/Artifical-Intelligence/PyTorch/CNN/Fruits-360/wandb/run-20210521_011035-5lhy5g7b/logs/debug.log</code>"
      ],
      "text/plain": [
       "<IPython.core.display.HTML object>"
      ]
     },
     "metadata": {},
     "output_type": "display_data"
    },
    {
     "data": {
      "text/html": [
       "Find internal logs for this run at: <code>/home/indika/Programming/Projects/Python/Artifical-Intelligence/PyTorch/CNN/Fruits-360/wandb/run-20210521_011035-5lhy5g7b/logs/debug-internal.log</code>"
      ],
      "text/plain": [
       "<IPython.core.display.HTML object>"
      ]
     },
     "metadata": {},
     "output_type": "display_data"
    },
    {
     "data": {
      "text/html": [
       "Synced 6 W&B file(s), 0 media file(s), 0 artifact file(s) and 0 other file(s)"
      ],
      "text/plain": [
       "<IPython.core.display.HTML object>"
      ]
     },
     "metadata": {},
     "output_type": "display_data"
    },
    {
     "data": {
      "text/html": [
       "\n",
       "                    <br/>Synced <strong style=\"color:#cdcd00\">optimizer-Adam (\n",
       "Parameter Group 0\n",
       "    amsgrad: False\n",
       "    betas: (0.9, 0.999)\n",
       "    eps: 1e-08\n",
       "    lr: 0.1\n",
       "    weight_decay: 0\n",
       ")</strong>: <a href=\"https://wandb.ai/ranuga-d/fruits-37/runs/5lhy5g7b\" target=\"_blank\">https://wandb.ai/ranuga-d/fruits-37/runs/5lhy5g7b</a><br/>\n",
       "                "
      ],
      "text/plain": [
       "<IPython.core.display.HTML object>"
      ]
     },
     "metadata": {},
     "output_type": "display_data"
    },
    {
     "data": {
      "text/html": [
       "...Successfully finished last run (ID:5lhy5g7b). Initializing new run:<br/><br/>"
      ],
      "text/plain": [
       "<IPython.core.display.HTML object>"
      ]
     },
     "metadata": {},
     "output_type": "display_data"
    },
    {
     "data": {
      "text/html": [
       "\n",
       "                Tracking run with wandb version 0.10.30<br/>\n",
       "                Syncing run <strong style=\"color:#cdcd00\">optimizer-Adam (\n",
       "Parameter Group 0\n",
       "    amsgrad: False\n",
       "    betas: (0.9, 0.999)\n",
       "    eps: 1e-08\n",
       "    lr: 0.1\n",
       "    weight_decay: 0\n",
       ")</strong> to <a href=\"https://wandb.ai\" target=\"_blank\">Weights & Biases</a> <a href=\"https://docs.wandb.com/integrations/jupyter.html\" target=\"_blank\">(Documentation)</a>.<br/>\n",
       "                Project page: <a href=\"https://wandb.ai/ranuga-d/fruits-37\" target=\"_blank\">https://wandb.ai/ranuga-d/fruits-37</a><br/>\n",
       "                Run page: <a href=\"https://wandb.ai/ranuga-d/fruits-37/runs/3uji91xr\" target=\"_blank\">https://wandb.ai/ranuga-d/fruits-37/runs/3uji91xr</a><br/>\n",
       "                Run data is saved locally in <code>/home/indika/Programming/Projects/Python/Artifical-Intelligence/PyTorch/CNN/Fruits-360/wandb/run-20210521_011115-3uji91xr</code><br/><br/>\n",
       "            "
      ],
      "text/plain": [
       "<IPython.core.display.HTML object>"
      ]
     },
     "metadata": {},
     "output_type": "display_data"
    }
   ],
   "source": [
    "optimizers = [torch.optim.Adam,torch.optim.AdamW,torch.optim.Adamax,torch.optim.SGD]\n",
    "for optimizer in optimizers:\n",
    "    model = models.resnet18(pretrained=True).to(device)\n",
    "    model = model.to(device)\n",
    "    num_ftrs = model.fc.in_features\n",
    "    model.fc = nn.Linear(num_ftrs, 37)\n",
    "    optimizer = optimizer(model.parameters(),lr=0.1)\n",
    "    criterion = nn.CrossEntropyLoss()\n",
    "    wandb.init(project=PROJECT_NAME,name=f'optimizer-{optimizer}')\n",
    "    for _ in tqdm(range(EPOCHS)):\n",
    "        for i in range(0,len(X_train),BATCH_SIZE):\n",
    "            X_batch = X_train[i:i+BATCH_SIZE].view(-1,3,112,112).to(device)\n",
    "            y_batch = y_train[i:i+BATCH_SIZE].to(device)\n",
    "            model = model.to(device)\n",
    "            preds = model(X_batch.float().to(device))\n",
    "            preds = preds.to(device)\n",
    "            loss = criterion(preds,y_batch)\n",
    "            optimizer.zero_grad()\n",
    "            loss.backward()\n",
    "            optimizer.step()\n",
    "        wandb.log({'loss':loss.item(),'accuracy':test(model,X_train,y_train),'val_accuracy':test(model,X_test,y_test),'val_loss':get_loss(criterion,y_test,model,X_test)})"
   ]
  },
  {
   "cell_type": "code",
   "execution_count": 65,
   "metadata": {},
   "outputs": [],
   "source": [
    "optimizers = [torch.optim.Adam,torch.optim.AdamW,torch.optim.Adamax,torch.optim.SGD]\n",
    "for optimizer in optimizers:\n",
    "    model = models.resnet18(pretrained=True).to(device)\n",
    "    model = model.to(device)\n",
    "    num_ftrs = model.fc.in_features\n",
    "    model.fc = nn.Linear(num_ftrs, 37)\n",
    "    optimizer = optimizer(model.parameters(),lr=0.1)\n",
    "    criterion = nn.CrossEntropyLoss()\n",
    "    wandb.init(project=PROJECT_NAME,name=f'optimizer-{optimizer}')\n",
    "    for _ in tqdm(range(EPOCHS)):\n",
    "        for i in range(0,len(X_train),BATCH_SIZE):\n",
    "            X_batch = X_train[i:i+BATCH_SIZE].view(-1,3,112,112).to(device)\n",
    "            y_batch = y_train[i:i+BATCH_SIZE].to(device)\n",
    "            model = model.to(device)\n",
    "            preds = model(X_batch.float().to(device))\n",
    "            preds = preds.to(device)\n",
    "            loss = criterion(preds,y_batch)\n",
    "            optimizer.zero_grad()\n",
    "            loss.backward()\n",
    "            optimizer.step()\n",
    "        wandb.log({'loss':loss.item(),'accuracy':test(model,X_train.view(-1,3,112,112),y_train),'val_accuracy':test(model,X_test.view(-1,3,112,112),y_test),'val_loss':get_loss(criterion,y_test,model,X_test.view(-1,3,112,112))})"
   ]
  }
 ],
 "metadata": {
  "kernelspec": {
   "display_name": "Python 3",
   "language": "python",
   "name": "python3"
  },
  "language_info": {
   "codemirror_mode": {
    "name": "ipython",
    "version": 3
   },
   "file_extension": ".py",
   "mimetype": "text/x-python",
   "name": "python",
   "nbconvert_exporter": "python",
   "pygments_lexer": "ipython3",
   "version": "3.7.3"
  }
 },
 "nbformat": 4,
 "nbformat_minor": 2
}
